{
 "cells": [
  {
   "cell_type": "code",
   "execution_count": 1,
   "metadata": {},
   "outputs": [],
   "source": [
    "from selenium import webdriver \n",
    "from selenium.webdriver.common.action_chains import ActionChains\n",
    "from selenium.webdriver.common.keys import Keys\n",
    "import time\n",
    "import os\n",
    "import pandas as pd"
   ]
  },
  {
   "cell_type": "code",
   "execution_count": 7,
   "metadata": {
    "scrolled": false
   },
   "outputs": [
    {
     "name": "stdout",
     "output_type": "stream",
     "text": [
      "검색할 단어를 입력하세요 : 인테리어소품\n",
      "가져올 태그의 숫자를 입력하세요 :20\n"
     ]
    },
    {
     "ename": "IndexError",
     "evalue": "list index out of range",
     "output_type": "error",
     "traceback": [
      "\u001b[1;31m---------------------------------------------------------------------------\u001b[0m",
      "\u001b[1;31mIndexError\u001b[0m                                Traceback (most recent call last)",
      "\u001b[1;32m<ipython-input-7-900d38675d47>\u001b[0m in \u001b[0;36m<module>\u001b[1;34m\u001b[0m\n\u001b[0;32m     28\u001b[0m \u001b[0mtime\u001b[0m\u001b[1;33m.\u001b[0m\u001b[0msleep\u001b[0m\u001b[1;33m(\u001b[0m\u001b[1;36m3\u001b[0m\u001b[1;33m)\u001b[0m\u001b[1;33m\u001b[0m\u001b[1;33m\u001b[0m\u001b[0m\n\u001b[0;32m     29\u001b[0m \u001b[1;33m\u001b[0m\u001b[0m\n\u001b[1;32m---> 30\u001b[1;33m \u001b[0mdriver\u001b[0m\u001b[1;33m.\u001b[0m\u001b[0mfind_elements_by_css_selector\u001b[0m\u001b[1;33m(\u001b[0m\u001b[1;34m'._9AhH0'\u001b[0m\u001b[1;33m)\u001b[0m\u001b[1;33m[\u001b[0m\u001b[1;36m0\u001b[0m\u001b[1;33m]\u001b[0m\u001b[1;33m.\u001b[0m\u001b[0mclick\u001b[0m\u001b[1;33m(\u001b[0m\u001b[1;33m)\u001b[0m\u001b[1;33m\u001b[0m\u001b[1;33m\u001b[0m\u001b[0m\n\u001b[0m\u001b[0;32m     31\u001b[0m \u001b[0mtime\u001b[0m\u001b[1;33m.\u001b[0m\u001b[0msleep\u001b[0m\u001b[1;33m(\u001b[0m\u001b[1;36m3\u001b[0m\u001b[1;33m)\u001b[0m\u001b[1;33m\u001b[0m\u001b[1;33m\u001b[0m\u001b[0m\n\u001b[0;32m     32\u001b[0m \u001b[0mtags\u001b[0m \u001b[1;33m=\u001b[0m \u001b[0mdriver\u001b[0m\u001b[1;33m.\u001b[0m\u001b[0mfind_elements_by_css_selector\u001b[0m\u001b[1;33m(\u001b[0m\u001b[1;34m'.xil3i'\u001b[0m\u001b[1;33m)\u001b[0m\u001b[1;33m\u001b[0m\u001b[1;33m\u001b[0m\u001b[0m\n",
      "\u001b[1;31mIndexError\u001b[0m: list index out of range"
     ]
    }
   ],
   "source": [
    "path = 'chromedriver.exe'\n",
    "\n",
    "search_word = input('검색할 단어를 입력하세요 : ')\n",
    "tag_n = input('가져올 태그의 숫자를 입력하세요 :')\n",
    "\n",
    "#셀레니음 webdriver > chrome 사용\n",
    "driver = webdriver.Chrome(path)\n",
    "action = ActionChains(driver)\n",
    "\n",
    "# 인스타 검색 주소\n",
    "url = 'https://www.instagram.com/explore/tags/'+ search_word + '/'\n",
    "\n",
    "driver.get(url)\n",
    "driver.maximize_window()\n",
    "\n",
    "# 인스타그램 로그인 \n",
    "\n",
    "inputid='01085223887'\n",
    "inputpw='!Pp9943887'\n",
    "\n",
    "\n",
    "# ID , PW 입력후 로그인 자동화\n",
    "driver.find_elements_by_name('username')[0].send_keys(inputid)\n",
    "\n",
    "driver.find_elements_by_name('password')[0].send_keys(inputpw)\n",
    "action.key_down(Keys.ENTER).perform()\n",
    "\n",
    "time.sleep(3)\n",
    "driver.get(url)\n",
    "\n",
    "time.sleep(3)\n",
    "\n",
    "# 게시물 클릭 \n",
    "driver.find_elements_by_css_selector('._9AhH0')[0].click()\n",
    "time.sleep(3)\n",
    "\n",
    "# 태그 찾기\n",
    "tags = driver.find_elements_by_css_selector('.xil3i')\n",
    "\n",
    "tag_list = []\n",
    "n=1\n",
    "\n",
    "# 게시물당 태그를 태그리스트에 추가 \n",
    "for i in tags:\n",
    "    print(i.text)\n",
    "    tag_list.append(i.text)\n",
    "    n += 1 \n",
    "\n",
    "while True :\n",
    "    try:\n",
    "        if int(tag_n) > n:\n",
    "            driver.find_element_by_link_text('다음').click()\n",
    "            time.sleep(4)\n",
    "            tags = driver.find_elements_by_css_selector('.xil3i')\n",
    "            for i in tags:\n",
    "                print(n)\n",
    "                print(i.text)\n",
    "                tag_list.append(i.text)\n",
    "                n += 1\n",
    "        else: \n",
    "            if n >= int(tag_n):\n",
    "                break\n",
    "            else:\n",
    "                driver.execute_script('window.scrollTo(0,document.body.scrollHeight)')\n",
    "    except:\n",
    "        if n >= int(tag_n):\n",
    "            break\n",
    "\n",
    "print(len(tag_list))\n",
    "\n",
    "# 데이터프레임화\n",
    "instadf = pd.DataFrame(tag_list,columns=['hashtag'])\n",
    "\n",
    "print(instadf)\n",
    "#instadf.to_csv('insta_tag.csv')\n",
    "\n",
    "###원하는 위치 저장 ###\n",
    "\n",
    "os.chdir('C:\\\\Users\\\\user\\\\Desktop\\\\실습')\n",
    "instadf.to_csv('insta_tag.csv')\n",
    "\n",
    "\n"
   ]
  },
  {
   "cell_type": "code",
   "execution_count": null,
   "metadata": {},
   "outputs": [],
   "source": []
  },
  {
   "cell_type": "code",
   "execution_count": null,
   "metadata": {},
   "outputs": [],
   "source": []
  }
 ],
 "metadata": {
  "kernelspec": {
   "display_name": "Python 3",
   "language": "python",
   "name": "python3"
  },
  "language_info": {
   "codemirror_mode": {
    "name": "ipython",
    "version": 3
   },
   "file_extension": ".py",
   "mimetype": "text/x-python",
   "name": "python",
   "nbconvert_exporter": "python",
   "pygments_lexer": "ipython3",
   "version": "3.8.3"
  }
 },
 "nbformat": 4,
 "nbformat_minor": 4
}
